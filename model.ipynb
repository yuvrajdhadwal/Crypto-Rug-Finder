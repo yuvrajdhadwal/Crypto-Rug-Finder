{
  "cells": [
    {
      "cell_type": "code",
      "execution_count": 5,
      "metadata": {
        "id": "-JjFrtjP_Qqz"
      },
      "outputs": [],
      "source": [
        "# Import necessary libraries\n",
        "import numpy as np\n",
        "import pandas as pd\n",
        "import xgboost as xgb\n",
        "from sklearn.model_selection import train_test_split\n",
        "from sklearn.metrics import accuracy_score, classification_report\n",
        "from sklearn.impute import SimpleImputer\n",
        "import pandas as pd\n",
        "\n",
        "# Assuming X_train and X_test are your data\n",
        "\n",
        "# Create an imputer object with a mean filling strategy\n",
        "imputer = SimpleImputer(strategy='mean')"
      ]
    },
    {
      "cell_type": "code",
      "execution_count": 6,
      "metadata": {
        "id": "orQvCXNj_jgh"
      },
      "outputs": [],
      "source": [
        "# Load your dataset\n",
        "data_raw = pd.read_csv('merged_pool_data4.csv', index_col='pool_id')\n",
        "\n",
        "pool_ids = data_raw.index.values\n",
        "# print(pool_ids)\n",
        "\n",
        "# This selects all columns except 'Label' as features\n",
        "X = data_raw.drop('rugpull', axis=1)\n",
        "drop_cols = ['logindex', 'weth', 'low', 'high', 'close', 'open']\n",
        "for column in X.columns:\n",
        "  for drop in drop_cols:\n",
        "    if drop in column and column in X.columns:\n",
        "      X = X.drop(column, axis=1)\n",
        "y = data_raw['rugpull']  # Assuming 'Label' is the column with the rugpull indicator\n",
        "\n",
        "# Split the dataset into training and testing sets\n",
        "X_train_raw, X_test_raw, y_train, y_test, pool_ids_train, pool_ids_test = train_test_split(X, y, pool_ids, test_size=0.2, random_state=5)"
      ]
    },
    {
      "cell_type": "code",
      "execution_count": 7,
      "metadata": {
        "colab": {
          "base_uri": "https://localhost:8080/"
        },
        "id": "qFtsgXWsNUtu",
        "outputId": "82b5c716-d969-4ac7-bfc1-154122f896f8"
      },
      "outputs": [
        {
          "name": "stdout",
          "output_type": "stream",
          "text": [
            "The pool_id 0x04efaef07927341afb0a5b5a375233cd065c48ec is in the testing dataset.\n"
          ]
        }
      ],
      "source": [
        "from sklearn.preprocessing import StandardScaler, RobustScaler\n",
        "\n",
        "desired_pool_id = '0x04efaef07927341afb0a5b5a375233cd065c48ec'\n",
        "\n",
        "# Check if the pool_id is in the training dataset\n",
        "is_in_training = desired_pool_id in X_train_raw.index\n",
        "\n",
        "# Check if the pool_id is in the testing dataset\n",
        "is_in_testing = desired_pool_id in X_test_raw.index\n",
        "\n",
        "# Print the results\n",
        "if is_in_training:\n",
        "    print(f\"The pool_id {desired_pool_id} is in the training dataset.\")\n",
        "elif is_in_testing:\n",
        "    print(f\"The pool_id {desired_pool_id} is in the testing dataset.\")\n",
        "else:\n",
        "    print(f\"The pool_id {desired_pool_id} is not in either the training or testing dataset.\")\n",
        "\n",
        "# # # # Separate the data for the excluded pool ID\n",
        "# X_test_raw = X.loc[[desired_pool_id]]\n",
        "# y_test = y.loc[[desired_pool_id]]\n",
        "\n",
        "# # # # Use the rest of the data for training\n",
        "# X_train_raw = X.drop(desired_pool_id)\n",
        "# y_train = y.drop(desired_pool_id)\n",
        "\n",
        "# # # # Ensure that the indices match between X and y in both training and testing sets\n",
        "# assert X_train_raw.index.equals(y_train.index)\n",
        "# assert X_test_raw.index.equals(y_test.index)\n",
        "\n",
        "# Choose the scaler you want to use\n",
        "scaler = StandardScaler()\n",
        "# scaler = RobustScaler()\n",
        "\n",
        "# Replace inf values with NaN\n",
        "# X_train_raw.replace([np.inf, -np.inf], np.nan, inplace=True)\n",
        "# X_test_raw.replace([np.inf, -np.inf], np.nan, inplace=True)\n",
        "\n",
        "# Fit on the training data and transform both training and test data\n",
        "X_train_imputed = imputer.fit_transform(X_train_raw)\n",
        "X_test_imputed = imputer.transform(X_test_raw)\n",
        "\n",
        "# Fit the scaler on the training data and transform both training and test data\n",
        "X_train_scaled = scaler.fit_transform(X_train_imputed)\n",
        "X_test_scaled = scaler.transform(X_test_imputed)\n",
        "\n",
        "# Convert scaled arrays back to DataFrame for compatibility with plotting functions\n",
        "X_train = pd.DataFrame(X_train_scaled, columns=X_train_raw.columns)\n",
        "X_test = pd.DataFrame(X_test_scaled, columns=X_test_raw.columns)"
      ]
    },
    {
      "cell_type": "code",
      "execution_count": 9,
      "metadata": {
        "id": "sAty1t99JEGA"
      },
      "outputs": [],
      "source": [
        "import os\n",
        "\n",
        "# Define the path for the PDF\n",
        "pdf_path = 'model_output.pdf'\n",
        "\n",
        "# Check if the directory exists, if not, create it\n",
        "if not os.path.exists('content/output/'):\n",
        "    os.makedirs('content/output/')\n",
        "\n",
        "pdf_full_path = os.path.join('content/output/', pdf_path)"
      ]
    },
    {
      "cell_type": "code",
      "execution_count": 10,
      "metadata": {
        "colab": {
          "base_uri": "https://localhost:8080/",
          "height": 1000
        },
        "id": "eD6bkuipDidQ",
        "outputId": "bd27d6c7-24f0-42a7-ed2f-e890928d80db"
      },
      "outputs": [
        {
          "name": "stdout",
          "output_type": "stream",
          "text": [
            "Training Random Forest...\n",
            "Evaluating Random Forest...\n",
            "838 99\n",
            "Accuracy of Random Forest: 93.28%\n",
            "              precision    recall  f1-score   support\n",
            "\n",
            "       False       0.94      0.98      0.96       801\n",
            "        True       0.87      0.63      0.73       136\n",
            "\n",
            "    accuracy                           0.93       937\n",
            "   macro avg       0.90      0.81      0.85       937\n",
            "weighted avg       0.93      0.93      0.93       937\n",
            "\n",
            "------------------------------------------------------------\n",
            "Feature Importances for Random Forest:\n",
            "Training XGBoost...\n",
            "Evaluating XGBoost...\n",
            "824 113\n",
            "Accuracy of XGBoost: 93.49%\n",
            "              precision    recall  f1-score   support\n",
            "\n",
            "       False       0.95      0.98      0.96       801\n",
            "        True       0.83      0.69      0.76       136\n",
            "\n",
            "    accuracy                           0.93       937\n",
            "   macro avg       0.89      0.83      0.86       937\n",
            "weighted avg       0.93      0.93      0.93       937\n",
            "\n",
            "------------------------------------------------------------\n",
            "Feature Importances for XGBoost:\n"
          ]
        },
        {
          "data": {
            "image/png": "[encoded data removed]",
            "text/plain": [
              "<Figure size 640x480 with 1 Axes>"
            ]
          },
          "metadata": {},
          "output_type": "display_data"
        },
        {
          "data": {
            "image/png": "[encoded data removed]",
            "text/plain": [
              "<Figure size 640x480 with 1 Axes>"
            ]
          },
          "metadata": {},
          "output_type": "display_data"
        }
      ],
      "source": [
        "from sklearn.linear_model import LogisticRegression\n",
        "from sklearn.ensemble import RandomForestClassifier\n",
        "from sklearn.svm import SVC\n",
        "import xgboost as xgb\n",
        "import matplotlib.pyplot as plt\n",
        "from matplotlib.backends.backend_pdf import PdfPages\n",
        "from sklearn.metrics import confusion_matrix\n",
        "\n",
        "\n",
        "# Define a dictionary with classifiers\n",
        "classifiers = {\n",
        "    # \"Logistic Regression\": LogisticRegression(max_iter=10000),\n",
        "    \"Random Forest\": RandomForestClassifier(),\n",
        "    # \"Support Vector Machine\": SVC(kernel='linear'),\n",
        "    \"XGBoost\": xgb.XGBClassifier(objective='binary:logistic', eval_metric='logloss')\n",
        "}\n",
        "\n",
        "def plot_coefficients(classifier, feature_names, classifier_name):\n",
        "    if hasattr(classifier, 'coef_'):\n",
        "        # Get the coefficients\n",
        "        coefs = classifier.coef_.flatten()\n",
        "        # Sort the coefficients\n",
        "        sorted_coefs = np.argsort(coefs)\n",
        "\n",
        "        # Plot the coefficients\n",
        "        plt.figure(figsize=(10, 6))\n",
        "        plt.barh(np.arange(len(coefs)), coefs[sorted_coefs], align='center')\n",
        "        plt.yticks(np.arange(len(coefs)), feature_names[sorted_coefs])\n",
        "        plt.xlabel('Coefficient Value')\n",
        "        plt.title(f'Feature Importance for {classifier_name}')\n",
        "        plt.tight_layout()\n",
        "        pdf.savefig(bbox_inches='tight')  # Save the figure\n",
        "        plt.close()  # Close the figure\n",
        "\n",
        "# Function to plot feature importances\n",
        "def plot_feature_importances(classifier, X_data, classifier_name):\n",
        "    # Retrieve feature importances and make sure they're in the same order\n",
        "    importances = classifier.feature_importances_\n",
        "    indices = np.argsort(importances)[::-1]\n",
        "\n",
        "    # # Summarize feature importances\n",
        "    # for f in range(X_data.shape[1]):\n",
        "    #     print(\"%d. Feature %s (%f)\" % (f + 1, X_data.columns[indices[f]], importances[indices[f]]))\n",
        "\n",
        "    # Plot feature importances\n",
        "    plt.figure()\n",
        "    plt.title(f\"Feature Importances in {classifier_name}\")\n",
        "    plt.bar(range(X_data.shape[1]), importances[indices], align=\"center\")\n",
        "    plt.xticks(range(X_data.shape[1]), X_data.columns[indices], rotation=90)\n",
        "    plt.xlim([-1, X_data.shape[1]])\n",
        "    pdf.savefig(bbox_inches='tight')  # Save the figure\n",
        "    plt.close()  # Close the figure\n",
        "\n",
        "# Create an empty list to store the results\n",
        "results = []\n",
        "\n",
        "# Open a PDF document\n",
        "with PdfPages(pdf_full_path) as pdf:\n",
        "    # Iterate over classifiers to train and evaluate them and print feature importances\n",
        "    for name, clf in classifiers.items():\n",
        "        fig, ax = plt.subplots()  # Create a figure for the text output\n",
        "\n",
        "        print(f\"Training {name}...\")\n",
        "        clf.fit(X_train, y_train)  # Train the classifier\n",
        "\n",
        "        print(f\"Evaluating {name}...\")\n",
        "        y_pred_prob = clf.predict_proba(X_test)  # Make predictions\n",
        "\n",
        "        y_pred_prob_class_1 = y_pred_prob[:,1]\n",
        "\n",
        "        # Set a threshold for classifying as rugpull (e.g., 0.5)\n",
        "        threshold = 0.5\n",
        "\n",
        "        # Classify based on the threshold\n",
        "        y_pred = y_pred_prob_class_1 > threshold\n",
        "\n",
        "        # Convert X_test.index to a 1-dimensional array\n",
        "        # pool_ids = X_test.index.values\n",
        "\n",
        "        # print(X_test)\n",
        "        # Create a DataFrame with pool ID, probability, and label\n",
        "        pool_results = pd.DataFrame({\n",
        "            'Pool ID': pool_ids_test,  # Assuming 'pool_id' is the column with the pool ID\n",
        "            # 'Pool ID': [desired_pool_id],\n",
        "            'Probability of Rugpull': y_pred_prob_class_1,\n",
        "            'Rugpull Label': y_test,\n",
        "        })\n",
        "\n",
        "        print(np.array([y_pred == False]).sum(), np.array([y_pred == True]).sum())\n",
        "        # Evaluate the model\n",
        "        accuracy = accuracy_score(y_test, y_pred)\n",
        "        report = classification_report(y_test, y_pred)\n",
        "        print(f\"Accuracy of {name}: %.2f%%\" % (accuracy * 100.0))\n",
        "        print(report)\n",
        "        print(\"-\" * 60)\n",
        "\n",
        "        # Write the text output to the PDF\n",
        "        # Create a figure for the text output\n",
        "        fig, ax = plt.subplots()\n",
        "        ax.axis('off')\n",
        "        text_output = f\"Training {name}...\\nAccuracy of {name}: {accuracy * 100.0:.2f}%\\n\\nClassification Report:\\n{report}\"\n",
        "        ax.text(0, 1, text_output, va='top', ha='left')\n",
        "        pdf.savefig(fig, bbox_inches='tight')  # Save the text output figure\n",
        "        plt.close(fig)\n",
        "\n",
        "        # Count true positives, true negatives, false positives, and false negatives\n",
        "        tn, fp, fn, tp = confusion_matrix(y_test, y_pred).ravel()\n",
        "\n",
        "        # Create a text output for True/False Positive/Negative\n",
        "        tp_text = f\"True Positives (TP): {tp}\\n\"\n",
        "        tn_text = f\"True Negatives (TN): {tn}\\n\"\n",
        "        fp_text = f\"False Positives (FP): {fp}\\n\"\n",
        "        fn_text = f\"False Negatives (FN): {fn}\\n\"\n",
        "\n",
        "        # Combine the True/False Positive/Negative information\n",
        "        tfpn_text = tp_text + tn_text + fp_text + fn_text\n",
        "\n",
        "        # Write the True/False Positive/Negative information to the PDF\n",
        "        fig, ax = plt.subplots()\n",
        "        ax.axis('off')\n",
        "        tfpn_output = f\"True/False Positive/Negative:\\n{tfpn_text}\"\n",
        "        ax.text(0, 1, tfpn_output, va='top', ha='left')\n",
        "        pdf.savefig(fig, bbox_inches='tight')  # Save the text output figure\n",
        "        plt.close(fig)\n",
        "\n",
        "        print(f\"Feature Importances for {name}:\")\n",
        "        if hasattr(clf, 'feature_importances_'):\n",
        "            plot_feature_importances(clf, X_train, name)\n",
        "        elif isinstance(clf, SVC) and clf.kernel == 'linear':\n",
        "            plot_coefficients(clf, X_train.columns, name)\n",
        "        elif isinstance(clf, LogisticRegression):\n",
        "            plot_coefficients(clf, X_train.columns, name)\n",
        "\n",
        "        # Append the results to the list\n",
        "        results.append((name, pool_results))\n",
        "\n",
        "        pool_results.to_csv(\"content/output/results.csv\")\n",
        "\n",
        "# Print the results for each classifier\n",
        "# for name, pool_results in results:\n",
        "#     print(f\"Results for {name}:\")\n",
        "#     print(pool_results)\n",
        "#     print(\"-\" * 60)\n",
        "\n",
        "# res"
      ]
    },
    {
      "cell_type": "code",
      "execution_count": 11,
      "metadata": {},
      "outputs": [
        {
          "name": "stdout",
          "output_type": "stream",
          "text": [
            "Requirement already satisfied: joblib in /Library/Frameworks/Python.framework/Versions/3.11/lib/python3.11/site-packages (1.3.2)\n",
            "Note: you may need to restart the kernel to use updated packages.\n"
          ]
        }
      ],
      "source": [
        "%pip install joblib"
      ]
    },
    {
      "cell_type": "code",
      "execution_count": 12,
      "metadata": {},
      "outputs": [
        {
          "ename": "NameError",
          "evalue": "name 'model' is not defined",
          "output_type": "error",
          "traceback": [
            "\u001b[0;31m---------------------------------------------------------------------------\u001b[0m",
            "\u001b[0;31mNameError\u001b[0m                                 Traceback (most recent call last)",
            "Cell \u001b[0;32mIn[12], line 3\u001b[0m\n\u001b[1;32m      1\u001b[0m \u001b[39mimport\u001b[39;00m \u001b[39mjoblib\u001b[39;00m\n\u001b[1;32m      2\u001b[0m \u001b[39m# Save the trained model\u001b[39;00m\n\u001b[0;32m----> 3\u001b[0m joblib\u001b[39m.\u001b[39mdump(model, \u001b[39m\"\u001b[39m\u001b[39mxgboost_rugpull.pkl\u001b[39m\u001b[39m\"\u001b[39m)\n\u001b[1;32m      5\u001b[0m \u001b[39m# Load the model in your web app\u001b[39;00m\n\u001b[1;32m      6\u001b[0m loaded_model \u001b[39m=\u001b[39m joblib\u001b[39m.\u001b[39mload(\u001b[39m\"\u001b[39m\u001b[39mxgboost_rugpull.pkl\u001b[39m\u001b[39m\"\u001b[39m)\n",
            "\u001b[0;31mNameError\u001b[0m: name 'model' is not defined"
          ]
        }
      ],
      "source": [
        "import joblib\n",
        "# Save the trained model\n",
        "joblib.dump(model, \"xgboost_rugpull.pkl\")\n",
        "\n",
        "# Load the model in your web app\n",
        "loaded_model = joblib.load(\"xgboost_rugpull.pkl\")\n"
      ]
    },
    {
      "cell_type": "code",
      "execution_count": 18,
      "metadata": {},
      "outputs": [
        {
          "name": "stdout",
          "output_type": "stream",
          "text": [
            "Index(['avg_daily_volume_change_per_swap', 'mean_feesusd', 'mean_tick',\n",
            "       'mean_otherTokenprice', 'mean_totalvaluelockedusd', 'mean_txcount',\n",
            "       'mean_volumeotherToken', 'mean_volumeusd', 'variance_feesusd',\n",
            "       'variance_tick', 'variance_otherTokenprice',\n",
            "       'variance_totalvaluelockedusd', 'variance_txcount',\n",
            "       'variance_volumeotherToken', 'variance_volumeusd', 'mean_otherToken_x',\n",
            "       'mean_amountusd_x', 'mean_tickupper_x', 'variance_otherToken_x',\n",
            "       'variance_amountusd_x', 'variance_tickupper_x', 'mean_otherToken_y',\n",
            "       'mean_amountusd_y', 'mean_tickupper_y', 'variance_otherToken_y',\n",
            "       'variance_amountusd_y', 'variance_tickupper_y',\n",
            "       'top_owner_1_distribution', 'top_owner_2_distribution',\n",
            "       'top_owner_3_distribution', 'top_owner_4_distribution',\n",
            "       'top_owner_5_distribution', 'top_owner_6_distribution',\n",
            "       'top_owner_7_distribution', 'top_owner_8_distribution',\n",
            "       'top_owner_9_distribution', 'top_owner_10_distribution'],\n",
            "      dtype='object')\n",
            "Model Evaluation:\n",
            "              precision    recall  f1-score   support\n",
            "\n",
            "       False       0.95      0.97      0.96       801\n",
            "        True       0.78      0.67      0.72       136\n",
            "\n",
            "    accuracy                           0.93       937\n",
            "   macro avg       0.86      0.82      0.84       937\n",
            "weighted avg       0.92      0.93      0.92       937\n",
            "\n"
          ]
        },
        {
          "data": {
            "text/plain": [
              "'\\njoblib.dump(model, \"xgboost_rugpull.pkl\")\\njoblib.dump(imputer, \"imputer.pkl\")\\njoblib.dump(scaler, \"scaler.pkl\")\\n\\nprint(\"✅ Model training complete. Saved model and preprocessor.\")\\n'"
            ]
          },
          "execution_count": 18,
          "metadata": {},
          "output_type": "execute_result"
        }
      ],
      "source": [
        "import numpy as np\n",
        "import pandas as pd\n",
        "import xgboost as xgb\n",
        "import joblib\n",
        "from sklearn.model_selection import train_test_split\n",
        "from sklearn.preprocessing import StandardScaler\n",
        "from sklearn.impute import SimpleImputer\n",
        "from sklearn.metrics import accuracy_score, classification_report\n",
        "\n",
        "# Load dataset\n",
        "file_path = \"merged_pool_data4.csv\"  # Ensure this file is available\n",
        "data_raw = pd.read_csv(file_path, index_col=\"pool_id\")\n",
        "\n",
        "# Drop unnecessary columns\n",
        "drop_cols = ['logindex', 'weth', 'low', 'high', 'close', 'open']\n",
        "X = data_raw.drop(columns=['rugpull'] + [col for col in data_raw.columns if any(dc in col for dc in drop_cols)])\n",
        "y = data_raw['rugpull']\n",
        "\n",
        "# Split dataset\n",
        "X_train, X_test, y_train, y_test = train_test_split(X, y, test_size=0.2, random_state=5)\n",
        "print(X_train.columns)\n",
        "\n",
        "# Handle missing values using imputation\n",
        "imputer = SimpleImputer(strategy='mean')\n",
        "X_train_imputed = imputer.fit_transform(X_train)\n",
        "X_test_imputed = imputer.transform(X_test)\n",
        "\n",
        "# Standardize data\n",
        "scaler = StandardScaler()\n",
        "X_train_scaled = scaler.fit_transform(X_train_imputed)\n",
        "X_test_scaled = scaler.transform(X_test_imputed)\n",
        "\n",
        "# Train XGBoost model\n",
        "model = xgb.XGBClassifier(n_estimators=100, learning_rate=0.1, max_depth=5, random_state=42)\n",
        "model.fit(X_train_scaled, y_train)\n",
        "\n",
        "# Evaluate model\n",
        "y_pred = model.predict(X_test_scaled)\n",
        "print(\"Model Evaluation:\")\n",
        "print(classification_report(y_test, y_pred))\n",
        "\n",
        "# Save model & preprocessing pipeline\n",
        "'''\n",
        "joblib.dump(model, \"xgboost_rugpull.pkl\")\n",
        "joblib.dump(imputer, \"imputer.pkl\")\n",
        "joblib.dump(scaler, \"scaler.pkl\")\n",
        "\n",
        "print(\"✅ Model training complete. Saved model and preprocessor.\")\n",
        "'''\n"
      ]
    }
  ],
  "metadata": {
    "accelerator": "GPU",
    "colab": {
      "gpuType": "T4",
      "provenance": []
    },
    "kernelspec": {
      "display_name": "Python 3",
      "name": "python3"
    },
    "language_info": {
      "codemirror_mode": {
        "name": "ipython",
        "version": 3
      },
      "file_extension": ".py",
      "mimetype": "text/x-python",
      "name": "python",
      "nbconvert_exporter": "python",
      "pygments_lexer": "ipython3",
      "version": "3.13.2"
    }
  },
  "nbformat": 4,
  "nbformat_minor": 0
}
